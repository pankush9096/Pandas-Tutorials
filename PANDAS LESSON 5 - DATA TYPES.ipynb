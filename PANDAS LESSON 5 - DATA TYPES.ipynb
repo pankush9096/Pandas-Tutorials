{
 "cells": [
  {
   "cell_type": "code",
   "execution_count": 2,
   "metadata": {},
   "outputs": [],
   "source": [
    "import pandas as pd"
   ]
  },
  {
   "cell_type": "code",
   "execution_count": 3,
   "metadata": {},
   "outputs": [
    {
     "name": "stderr",
     "output_type": "stream",
     "text": [
      "/Library/Frameworks/Python.framework/Versions/3.5/lib/python3.5/site-packages/pandas/core/indexing.py:537: SettingWithCopyWarning: \n",
      "A value is trying to be set on a copy of a slice from a DataFrame.\n",
      "Try using .loc[row_indexer,col_indexer] = value instead\n",
      "\n",
      "See the caveats in the documentation: http://pandas.pydata.org/pandas-docs/stable/indexing.html#indexing-view-versus-copy\n",
      "  self.obj[item] = s\n"
     ]
    },
    {
     "data": {
      "text/plain": [
       "0    16.99\n",
       "1      NaN\n",
       "2    21.01\n",
       "3      NaN\n",
       "4    24.59\n",
       "5      NaN\n",
       "6     8.77\n",
       "7    26.88\n",
       "8    15.04\n",
       "9    14.78\n",
       "Name: total_bill, dtype: float64"
      ]
     },
     "execution_count": 3,
     "metadata": {},
     "output_type": "execute_result"
    }
   ],
   "source": [
    "tips = pd.read_csv('../SeabornDataset/tips.csv')\n",
    "tips.head()\n",
    "\n",
    "#tips.info()\n",
    "\n",
    "#the datatype category looks like a string but is getting coded as integers - dummy variable\n",
    "\n",
    "#converting into different data types\n",
    "tips['total_bill_str'] = tips['total_bill'].astype(str)\n",
    "#tips.info()\n",
    "\n",
    "tips_subset = tips.head(10)\n",
    "tips_subset.loc[[1,3,5], 'total_bill'] = 'missing'\n",
    "tips_subset.dtypes\n",
    "\n",
    "#tips_subset['total_bill'].astype(float)\n",
    "\n",
    "#same thing can be done using to numeric but itll throw an error but if we want to replace missing with nan\n",
    "pd.to_numeric(tips_subset['total_bill'], errors = 'ignore')\n",
    "#doesnt help - dtype object still  \n",
    "\n",
    "#to change it \n",
    "pd.to_numeric(tips_subset['total_bill'], errors = 'coerce')\n"
   ]
  },
  {
   "cell_type": "code",
   "execution_count": null,
   "metadata": {},
   "outputs": [],
   "source": []
  }
 ],
 "metadata": {
  "kernelspec": {
   "display_name": "Python 3",
   "language": "python",
   "name": "python3"
  },
  "language_info": {
   "codemirror_mode": {
    "name": "ipython",
    "version": 3
   },
   "file_extension": ".py",
   "mimetype": "text/x-python",
   "name": "python",
   "nbconvert_exporter": "python",
   "pygments_lexer": "ipython3",
   "version": "3.7.1"
  }
 },
 "nbformat": 4,
 "nbformat_minor": 2
}
