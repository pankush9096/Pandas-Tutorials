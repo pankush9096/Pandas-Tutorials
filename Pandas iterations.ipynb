{
 "cells": [
  {
   "cell_type": "code",
   "execution_count": 3,
   "metadata": {},
   "outputs": [
    {
     "name": "stdout",
     "output_type": "stream",
     "text": [
      "A\n",
      "x\n",
      "y\n",
      "C\n",
      "D\n"
     ]
    }
   ],
   "source": [
    "# basic iteration (for i in object) produces −\n",
    "# Series − values\n",
    "# DataFrame − column labels\n",
    "# Panel − item labels\n",
    "\n",
    "import pandas as pd\n",
    "import numpy as np\n",
    "N=20\n",
    "\n",
    "df = pd.DataFrame({\n",
    "    'A': pd.date_range(start='2016-01-01',periods=N,freq='D'),\n",
    "    'x': np.linspace(0,stop=N-1,num=N),\n",
    "    'y': np.random.rand(N),\n",
    "    'C': np.random.choice(['Low','Medium','High'],N).tolist(),\n",
    "    'D': np.random.normal(100, 10, size=(N)).tolist()\n",
    "    })\n",
    "\n",
    "for col in df:\n",
    "   print(col)\n"
   ]
  },
  {
   "cell_type": "code",
   "execution_count": 5,
   "metadata": {},
   "outputs": [
    {
     "data": {
      "text/plain": [
       "0   2016-01-01\n",
       "1   2016-01-02\n",
       "2   2016-01-03\n",
       "3   2016-01-04\n",
       "4   2016-01-05\n",
       "Name: A, dtype: datetime64[ns]"
      ]
     },
     "execution_count": 5,
     "metadata": {},
     "output_type": "execute_result"
    }
   ],
   "source": [
    "# To iterate over the rows of the DataFrame, we can use the following functions −\n",
    "\n",
    "# iteritems() − to iterate over the (key,value) pairs\n",
    "# iterrows() − iterate over the rows as (index,series) pairs\n",
    "# itertuples() − iterate over the rows as namedtuples\n",
    "df['A'].head()"
   ]
  },
  {
   "cell_type": "code",
   "execution_count": 6,
   "metadata": {},
   "outputs": [
    {
     "data": {
      "text/html": [
       "<div>\n",
       "<style scoped>\n",
       "    .dataframe tbody tr th:only-of-type {\n",
       "        vertical-align: middle;\n",
       "    }\n",
       "\n",
       "    .dataframe tbody tr th {\n",
       "        vertical-align: top;\n",
       "    }\n",
       "\n",
       "    .dataframe thead th {\n",
       "        text-align: right;\n",
       "    }\n",
       "</style>\n",
       "<table border=\"1\" class=\"dataframe\">\n",
       "  <thead>\n",
       "    <tr style=\"text-align: right;\">\n",
       "      <th></th>\n",
       "      <th>col1</th>\n",
       "      <th>col2</th>\n",
       "      <th>col3</th>\n",
       "    </tr>\n",
       "  </thead>\n",
       "  <tbody>\n",
       "    <tr>\n",
       "      <th>0</th>\n",
       "      <td>1.826604</td>\n",
       "      <td>1.305282</td>\n",
       "      <td>-1.010583</td>\n",
       "    </tr>\n",
       "    <tr>\n",
       "      <th>1</th>\n",
       "      <td>-0.417533</td>\n",
       "      <td>0.613913</td>\n",
       "      <td>0.725667</td>\n",
       "    </tr>\n",
       "    <tr>\n",
       "      <th>2</th>\n",
       "      <td>-1.116019</td>\n",
       "      <td>-0.656789</td>\n",
       "      <td>-0.727051</td>\n",
       "    </tr>\n",
       "    <tr>\n",
       "      <th>3</th>\n",
       "      <td>-0.789393</td>\n",
       "      <td>-0.316523</td>\n",
       "      <td>0.680679</td>\n",
       "    </tr>\n",
       "  </tbody>\n",
       "</table>\n",
       "</div>"
      ],
      "text/plain": [
       "       col1      col2      col3\n",
       "0  1.826604  1.305282 -1.010583\n",
       "1 -0.417533  0.613913  0.725667\n",
       "2 -1.116019 -0.656789 -0.727051\n",
       "3 -0.789393 -0.316523  0.680679"
      ]
     },
     "execution_count": 6,
     "metadata": {},
     "output_type": "execute_result"
    }
   ],
   "source": [
    "df = pd.DataFrame(np.random.randn(4,3),columns=['col1','col2','col3'])\n",
    "df"
   ]
  },
  {
   "cell_type": "code",
   "execution_count": 7,
   "metadata": {},
   "outputs": [
    {
     "name": "stdout",
     "output_type": "stream",
     "text": [
      "col1 0    1.826604\n",
      "1   -0.417533\n",
      "2   -1.116019\n",
      "3   -0.789393\n",
      "Name: col1, dtype: float64\n",
      "col2 0    1.305282\n",
      "1    0.613913\n",
      "2   -0.656789\n",
      "3   -0.316523\n",
      "Name: col2, dtype: float64\n",
      "col3 0   -1.010583\n",
      "1    0.725667\n",
      "2   -0.727051\n",
      "3    0.680679\n",
      "Name: col3, dtype: float64\n"
     ]
    }
   ],
   "source": [
    "for key,value in df.iteritems():\n",
    "       print (key,value)"
   ]
  },
  {
   "cell_type": "code",
   "execution_count": 15,
   "metadata": {},
   "outputs": [
    {
     "name": "stdout",
     "output_type": "stream",
     "text": [
      "0\n",
      "col1   -0.716274\n",
      "col2    0.564314\n",
      "col3    0.458358\n",
      "Name: 0, dtype: float64\n",
      "1\n",
      "col1    0.259487\n",
      "col2   -1.885669\n",
      "col3   -0.104902\n",
      "Name: 1, dtype: float64\n",
      "2\n",
      "col1   -0.372141\n",
      "col2   -1.056993\n",
      "col3   -0.552136\n",
      "Name: 2, dtype: float64\n",
      "3\n",
      "col1    0.620776\n",
      "col2   -0.792586\n",
      "col3    0.646215\n",
      "Name: 3, dtype: float64\n"
     ]
    }
   ],
   "source": [
    "df = pd.DataFrame(np.random.randn(4,3),columns = ['col1','col2','col3'])\n",
    "for row_index,row in df.iterrows():\n",
    "    print(row_index)\n",
    "    print(row)"
   ]
  },
  {
   "cell_type": "code",
   "execution_count": 16,
   "metadata": {},
   "outputs": [
    {
     "name": "stdout",
     "output_type": "stream",
     "text": [
      "Pandas(Index=0, col1=-1.43634725763029, col2=1.1883184511638292, col3=0.3384953038450534) <class 'pandas.core.frame.Pandas'>\n",
      "Pandas(Index=1, col1=-0.11450872952588687, col2=-0.02070193842990676, col3=-1.006953393954917) <class 'pandas.core.frame.Pandas'>\n",
      "Pandas(Index=2, col1=-0.4873365686704276, col2=1.2365013705502093, col3=1.2421338637970014) <class 'pandas.core.frame.Pandas'>\n",
      "Pandas(Index=3, col1=0.07147163384531212, col2=-0.4880452503483517, col3=-0.2488037076991291) <class 'pandas.core.frame.Pandas'>\n"
     ]
    }
   ],
   "source": [
    "df = pd.DataFrame(np.random.randn(4,3),columns = ['col1','col2','col3'])\n",
    "for row in df.itertuples():\n",
    "        print(row,type(row))\n",
    "        "
   ]
  },
  {
   "cell_type": "code",
   "execution_count": 17,
   "metadata": {},
   "outputs": [
    {
     "name": "stdout",
     "output_type": "stream",
     "text": [
      "Pandas(Index=0, col1=-1.43634725763029, col2=1.1883184511638292, col3=0.3384953038450534)\n",
      "Pandas(Index=1, col1=-0.11450872952588687, col2=-0.02070193842990676, col3=-1.006953393954917)\n"
     ]
    }
   ],
   "source": [
    "for row in df.itertuples():\n",
    "        if row[0]<2: \n",
    "            print(row)"
   ]
  },
  {
   "cell_type": "code",
   "execution_count": 18,
   "metadata": {},
   "outputs": [
    {
     "name": "stdout",
     "output_type": "stream",
     "text": [
      "Pandas(Index=0, col1=-1.43634725763029, col2=1.1883184511638292, col3=0.3384953038450534)\n",
      "Pandas(Index=1, col1=-0.11450872952588687, col2=-0.02070193842990676, col3=-1.006953393954917)\n",
      "Pandas(Index=2, col1=-0.4873365686704276, col2=1.2365013705502093, col3=1.2421338637970014)\n"
     ]
    }
   ],
   "source": [
    "for row in df.itertuples():\n",
    "        if row[1]<0: \n",
    "            print(row)"
   ]
  },
  {
   "cell_type": "code",
   "execution_count": null,
   "metadata": {},
   "outputs": [],
   "source": []
  }
 ],
 "metadata": {
  "kernelspec": {
   "display_name": "Python 3",
   "language": "python",
   "name": "python3"
  },
  "language_info": {
   "codemirror_mode": {
    "name": "ipython",
    "version": 3
   },
   "file_extension": ".py",
   "mimetype": "text/x-python",
   "name": "python",
   "nbconvert_exporter": "python",
   "pygments_lexer": "ipython3",
   "version": "3.7.1"
  }
 },
 "nbformat": 4,
 "nbformat_minor": 2
}
